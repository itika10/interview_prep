{
 "cells": [
  {
   "cell_type": "markdown",
   "id": "75d0b837-a9bb-4625-87c4-430dd41ee712",
   "metadata": {},
   "source": [
    "<b>1.1 Is Unique:</b> Implement an algorithm to determine if a string has all unique characters. What if you cannot use additional data structures?"
   ]
  },
  {
   "cell_type": "code",
   "execution_count": 7,
   "id": "2afad9aa-356c-4b41-be7a-4db83d5ba52d",
   "metadata": {},
   "outputs": [
    {
     "name": "stdout",
     "output_type": "stream",
     "text": [
      "Unique\n"
     ]
    }
   ],
   "source": [
    "def check_unique(string): # considering string does not have spaces\n",
    "    lst = []\n",
    "    for ch in string.lower(): #O(n)\n",
    "        if ch in lst:\n",
    "            return \"Not Unique\"\n",
    "        lst.append(ch)\n",
    "    return \"Unique\"       \n",
    "        \n",
    "print(check_unique(\"itka\"))  "
   ]
  },
  {
   "cell_type": "markdown",
   "id": "fb0f3367-4d31-4ea8-be77-8d6f22dd0ab2",
   "metadata": {},
   "source": [
    "<b>1.2 Check Permutation:</b> Given two strings, write a method to decide if one is a permutation of the other. "
   ]
  },
  {
   "cell_type": "code",
   "execution_count": 9,
   "id": "5c9fea32-55aa-4624-85e9-09a1cfe92205",
   "metadata": {},
   "outputs": [
    {
     "data": {
      "text/plain": [
       "True"
      ]
     },
     "execution_count": 9,
     "metadata": {},
     "output_type": "execute_result"
    }
   ],
   "source": [
    "def check_permutation(str1, str2):\n",
    "    if len(str1) != len(str2):\n",
    "        return False\n",
    "    count = {}\n",
    "    for a,b in zip(str1, str2):\n",
    "        count[a] = count.get(a, 0) + 1\n",
    "        count[b] = count.get(b, 0) - 1\n",
    "        \n",
    "    return all(v==0 for v in count.values())\n",
    "\n",
    "check_permutation('eat', 'ate')"
   ]
  }
 ],
 "metadata": {
  "kernelspec": {
   "display_name": "Python 3.13 (System)",
   "language": "python",
   "name": "python313"
  },
  "language_info": {
   "codemirror_mode": {
    "name": "ipython",
    "version": 3
   },
   "file_extension": ".py",
   "mimetype": "text/x-python",
   "name": "python",
   "nbconvert_exporter": "python",
   "pygments_lexer": "ipython3",
   "version": "3.13.5"
  }
 },
 "nbformat": 4,
 "nbformat_minor": 5
}
