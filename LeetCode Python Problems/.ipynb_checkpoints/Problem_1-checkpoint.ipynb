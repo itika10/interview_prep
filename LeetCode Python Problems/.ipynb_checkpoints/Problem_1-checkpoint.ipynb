{
 "cells": [
  {
   "cell_type": "markdown",
   "id": "82968543",
   "metadata": {},
   "source": [
    "# Contains Duplicate - LeetCode # 217\n",
    "### Given an integer array nums, return true if any value appears more than once in the array, otherwise return false.\n",
    "#### Example 1:\n",
    "Input: nums = [1, 2, 3, 3]<br>\n",
    "Output: true\n",
    "\n",
    "#### Example 2:\n",
    "Input: nums = [1, 2, 3, 4]<br>\n",
    "Output: false"
   ]
  },
  {
   "cell_type": "markdown",
   "id": "e0f9757f",
   "metadata": {},
   "source": [
    "## Dictionary Approach"
   ]
  },
  {
   "cell_type": "code",
   "execution_count": null,
   "id": "035a64f9",
   "metadata": {},
   "outputs": [],
   "source": [
    "def hasDuplicate(nums) -> bool:\n",
    "    dups = {}\n",
    "    for num in nums:\n",
    "        if num in dups:\n",
    "            return True\n",
    "        else:\n",
    "            dups[num] = 1\n",
    "    return False"
   ]
  },
  {
   "cell_type": "code",
   "execution_count": null,
   "id": "bbc61c4b",
   "metadata": {},
   "outputs": [],
   "source": [
    "print(hasDuplicate([1, 2, 3, 4]))\n",
    "print(hasDuplicate([1, 2, 3, 3]))"
   ]
  },
  {
   "cell_type": "markdown",
   "id": "e079e29a",
   "metadata": {},
   "source": [
    "### Time Complexity:\n",
    "Loop over n numbers → O(n)<br>\n",
    "Dictionary lookup (num in dups) is O(1) on average.<br>\n",
    "Total: O(n)\n",
    "### Space Complexity:\n",
    "At worst, we store all numbers in the dictionary → O(n) extra space."
   ]
  },
  {
   "cell_type": "markdown",
   "id": "71ba27ee",
   "metadata": {},
   "source": [
    "# Set Iterative Approach"
   ]
  },
  {
   "cell_type": "code",
   "execution_count": null,
   "id": "cac49d1b",
   "metadata": {},
   "outputs": [],
   "source": [
    "def hasDuplicate(nums) -> bool:\n",
    "    seen = set()\n",
    "    for num in nums:\n",
    "        if num in seen:\n",
    "            return True\n",
    "        seen.add(num)\n",
    "    return False"
   ]
  },
  {
   "cell_type": "code",
   "execution_count": null,
   "id": "c4d424fb",
   "metadata": {},
   "outputs": [],
   "source": [
    "print(hasDuplicate([1, 2, 3, 4]))\n",
    "print(hasDuplicate([1, 2, 3, 3]))"
   ]
  },
  {
   "cell_type": "markdown",
   "id": "59b0afa1",
   "metadata": {},
   "source": [
    "### Time Complexity:\n",
    "Loop over n numbers → O(n)<br>\n",
    "Set lookup & insertion are O(1) on average.<br>\n",
    "Total: O(n)\n",
    "### Space Complexity:\n",
    "At worst, we store all numbers in the set → O(n) extra space.\n",
    "##### Slightly better constant factor than a dictionary because we’re not storing values."
   ]
  },
  {
   "cell_type": "markdown",
   "id": "b2126d66",
   "metadata": {},
   "source": [
    "# Set Length Comparison Approach"
   ]
  },
  {
   "cell_type": "code",
   "execution_count": null,
   "id": "535b135f",
   "metadata": {},
   "outputs": [],
   "source": [
    "def hasDuplicate(nums) -> bool:\n",
    "    return len(nums) != len(set(nums))"
   ]
  },
  {
   "cell_type": "code",
   "execution_count": null,
   "id": "66ba9cc0",
   "metadata": {},
   "outputs": [],
   "source": [
    "print(hasDuplicate([1, 2, 3, 4]))\n",
    "print(hasDuplicate([1, 2, 3, 3]))"
   ]
  },
  {
   "cell_type": "markdown",
   "id": "84be0c6a",
   "metadata": {},
   "source": [
    "### Time Complexity:\n",
    "set(nums) → O(n) to create a set from the list.<br>\n",
    "len() is O(1).<br>\n",
    "Total: O(n)\n",
    "### Space Complexity:\n",
    "The set(nums) creates a new set with up to n elements → O(n) space."
   ]
  },
  {
   "cell_type": "markdown",
   "id": "ce2bf935",
   "metadata": {},
   "source": [
    "### Best Choice:\n",
    "\n",
    "##### If you want early exit when a duplicate is found → Use Set (iterative).\n",
    "##### If you want shortest code and don’t care about early exit → Use Set (length check).\n",
    "##### If you need counts of elements later → Use Dictionary."
   ]
  }
 ],
 "metadata": {
  "kernelspec": {
   "display_name": "Python 3.13 (System)",
   "language": "python",
   "name": "python313"
  },
  "language_info": {
   "codemirror_mode": {
    "name": "ipython",
    "version": 3
   },
   "file_extension": ".py",
   "mimetype": "text/x-python",
   "name": "python",
   "nbconvert_exporter": "python",
   "pygments_lexer": "ipython3",
   "version": "3.13.5"
  }
 },
 "nbformat": 4,
 "nbformat_minor": 5
}
