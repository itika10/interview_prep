{
 "cells": [
  {
   "cell_type": "markdown",
   "id": "656ce464-5c90-4ee8-b529-2602b60aa013",
   "metadata": {},
   "source": [
    "# Two Sum\n",
    "### Given an array of integers nums and an integer target, return the indices i and j such that nums[i] + nums[j] == target and i != j.\n",
    "#### You may assume that every input has exactly one pair of indices i and j that satisfy the condition.\n",
    "#### Return the answer with the smaller index first.\n",
    "\n",
    "#### Example 1:\n",
    "\n",
    "Input: nums = [3,4,5,6], target = 7\n",
    "\n",
    "Output: [0,1]\n",
    "\n",
    "Explanation: nums[0] + nums[1] == 7, so we return [0, 1].\n",
    "\n",
    "#### Example 2:\n",
    "\n",
    "Input: nums = [4,5,6], target = 10\n",
    "\n",
    "Output: [0,2]\n",
    "\n",
    "#### Example 3:\n",
    "\n",
    "Input: nums = [5,5], target = 10\n",
    "\n",
    "Output: [0,1]\n",
    "\n",
    "#### Constraints:\n",
    "\n",
    "2 <= nums.length <= 1000\n",
    "\n",
    "-10,000,000 <= nums[i] <= 10,000,000\n",
    "\n",
    "-10,000,000 <= target <= 10,000,000"
   ]
  },
  {
   "cell_type": "markdown",
   "id": "81f4e24d-258c-4e45-88d4-45c0b0184a35",
   "metadata": {},
   "source": [
    "## My Solution\n",
    "### Time Complexity:\n",
    "O(n^2)\n",
    "### Space Complexity:\n",
    "O(1)"
   ]
  },
  {
   "cell_type": "code",
   "execution_count": 1,
   "id": "a7f1f090-fe63-47d1-bfb4-b495c7dc13c0",
   "metadata": {},
   "outputs": [],
   "source": [
    "def twoSum(nums, target):\n",
    "    for i in range(len(nums)):\n",
    "        for j in range(i+1, len(nums)):\n",
    "            if nums[i] + nums[j] == target:\n",
    "                return [i, j]"
   ]
  },
  {
   "cell_type": "code",
   "execution_count": 2,
   "id": "396baa18-ee4c-4aed-9d3f-bd269e40eb70",
   "metadata": {},
   "outputs": [
    {
     "name": "stdout",
     "output_type": "stream",
     "text": [
      "[0, 1]\n",
      "[0, 2]\n",
      "[0, 1]\n"
     ]
    }
   ],
   "source": [
    "print(twoSum([3,4,5,6], 7))\n",
    "print(twoSum([4,5,6], 10))\n",
    "print(twoSum([5,5], 10))"
   ]
  },
  {
   "cell_type": "code",
   "execution_count": null,
   "id": "b3ac7c4f-723e-4272-aa80-a6d624699d87",
   "metadata": {},
   "outputs": [],
   "source": []
  },
  {
   "cell_type": "code",
   "execution_count": 7,
   "id": "0622a419-d332-4c95-a409-3d15aa9e79d4",
   "metadata": {},
   "outputs": [],
   "source": [
    "def twoSum(nums, target):\n",
    "    h = {}\n",
    "    for i, num in enumerate(nums):\n",
    "        diff = target-num\n",
    "        if diff in h:\n",
    "            return [h[diff], i]\n",
    "        h[num] = i"
   ]
  },
  {
   "cell_type": "code",
   "execution_count": 8,
   "id": "3ec531e6-2166-45fd-ba64-9db19ef019c5",
   "metadata": {},
   "outputs": [
    {
     "name": "stdout",
     "output_type": "stream",
     "text": [
      "[0, 2]\n"
     ]
    }
   ],
   "source": [
    "print(twoSum([3,4,5,6], 7))\n",
    "print(twoSum([4,5,6], 10))\n",
    "print(twoSum([5,5], 10))"
   ]
  },
  {
   "cell_type": "code",
   "execution_count": null,
   "id": "5909a9d6-2ff6-4fce-b7a7-84364b231e33",
   "metadata": {},
   "outputs": [],
   "source": []
  }
 ],
 "metadata": {
  "kernelspec": {
   "display_name": "Python 3.13 (System)",
   "language": "python",
   "name": "python313"
  },
  "language_info": {
   "codemirror_mode": {
    "name": "ipython",
    "version": 3
   },
   "file_extension": ".py",
   "mimetype": "text/x-python",
   "name": "python",
   "nbconvert_exporter": "python",
   "pygments_lexer": "ipython3",
   "version": "3.13.5"
  }
 },
 "nbformat": 4,
 "nbformat_minor": 5
}
