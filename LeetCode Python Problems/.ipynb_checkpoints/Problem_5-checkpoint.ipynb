{
 "cells": [
  {
   "cell_type": "code",
   "execution_count": 6,
   "id": "2722d12b-c305-42f7-822a-ed4548cafc12",
   "metadata": {},
   "outputs": [],
   "source": [
    "def topKFrequent(nums, k):\n",
    "    count = {}\n",
    "    result = []\n",
    "    for num in nums:\n",
    "        count[num] = count.get(num, 0) + 1\n",
    "    count = sorted(count.items(), key=lambda item: item[1], reverse=True)\n",
    "    for i in range(k):\n",
    "        k,v = count[i]\n",
    "        result.append(k)\n",
    "\n",
    "    return result"
   ]
  },
  {
   "cell_type": "code",
   "execution_count": 7,
   "id": "07e14179-fd5d-4ae2-bcdf-b045417d530b",
   "metadata": {},
   "outputs": [
    {
     "name": "stdout",
     "output_type": "stream",
     "text": [
      "[2, 3]\n"
     ]
    }
   ],
   "source": [
    "print(topKFrequent([1,2], k = 2))"
   ]
  },
  {
   "cell_type": "code",
   "execution_count": null,
   "id": "b7d278b4-60d3-48c1-92ff-d458d10c656f",
   "metadata": {},
   "outputs": [],
   "source": []
  }
 ],
 "metadata": {
  "kernelspec": {
   "display_name": "Python 3.13 (System)",
   "language": "python",
   "name": "python313"
  },
  "language_info": {
   "codemirror_mode": {
    "name": "ipython",
    "version": 3
   },
   "file_extension": ".py",
   "mimetype": "text/x-python",
   "name": "python",
   "nbconvert_exporter": "python",
   "pygments_lexer": "ipython3",
   "version": "3.13.5"
  }
 },
 "nbformat": 4,
 "nbformat_minor": 5
}
