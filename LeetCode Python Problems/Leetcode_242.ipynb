{
 "cells": [
  {
   "cell_type": "markdown",
   "id": "0d57ed26-e666-4fe5-9ae3-82fbd92549d0",
   "metadata": {},
   "source": [
    "# Valid Anagram\n",
    "### Given two strings s and t, return true if the two strings are anagrams of each other, otherwise return false.\n",
    "#### An anagram is a string that contains the exact same characters as another string, but the order of the characters can be different.\n",
    "#### Example 1:\n",
    "Input: s = \"racecar\", t = \"carrace\"<br>\n",
    "Output: true\n",
    "#### Example 2:\n",
    "Input: s = \"jar\", t = \"jam\"<br>\n",
    "Output: false\n",
    "\n",
    "#### Constraints:\n",
    "s and t consist of lowercase English letters."
   ]
  },
  {
   "cell_type": "markdown",
   "id": "40443021-4737-4737-a836-910a3027d22a",
   "metadata": {},
   "source": [
    "## My Solution\n",
    "### Time Complexity:\n",
    "O(n+m) - length of string one and two; with n==m, it's O(n)\n",
    "### Space Complexity:\n",
    "O(k) → O(1) under fixed 26-letter alphabet."
   ]
  },
  {
   "cell_type": "code",
   "execution_count": 1,
   "id": "0b854e44-a5e4-4fc3-b2bd-102205399027",
   "metadata": {},
   "outputs": [],
   "source": [
    "def isAnagram(s, t) -> bool:\n",
    "    if len(s) != len(t):\n",
    "        return False\n",
    "        \n",
    "    s_count, t_count = {}, {}\n",
    "    for ch in s:\n",
    "        s_count[ch] = s_count.get(ch, 0) + 1\n",
    "\n",
    "    for ch in t:\n",
    "        t_count[ch] = t_count.get(ch, 0) + 1\n",
    "\n",
    "    return s_count == t_count"
   ]
  },
  {
   "cell_type": "code",
   "execution_count": 2,
   "id": "9cbd6d71-5c27-498f-9b70-4f2b7aa44f36",
   "metadata": {},
   "outputs": [
    {
     "name": "stdout",
     "output_type": "stream",
     "text": [
      "True\n",
      "False\n"
     ]
    }
   ],
   "source": [
    "print(isAnagram(\"racecar\", \"carrace\"))\n",
    "print(isAnagram(\"jar\", \"jam\"))"
   ]
  },
  {
   "cell_type": "markdown",
   "id": "aebab94b-11c1-42c7-b377-03ba62cbd2da",
   "metadata": {},
   "source": [
    "### Space complexity:\n",
    "With a dict, it’s O(k) where k is the number of distinct letters (≤26 here). Since the alphabet is fixed to lowercase English, you can call that O(1) for this problem’s constraints. Without that assumption, it’s O(k)."
   ]
  },
  {
   "cell_type": "markdown",
   "id": "240b4bb8-27eb-4b9d-9c52-19a62a118602",
   "metadata": {},
   "source": [
    "## One-pass hash map (increment/decrement) — O(n) time, O(1) space (26 letters)\n",
    "Why it’s nice: single dict, single pass, constant extra space under fixed alphabet."
   ]
  },
  {
   "cell_type": "code",
   "execution_count": 3,
   "id": "c3114591-79ec-4e0d-bf70-812184ce175c",
   "metadata": {},
   "outputs": [],
   "source": [
    "def isAnagram(s, t) -> bool:\n",
    "    if len(s) != len(t):\n",
    "        return False\n",
    "\n",
    "    counts = {}\n",
    "    for a, b in zip(s, t):\n",
    "        counts[a] = counts.get(a, 0) + 1\n",
    "        counts[b] = counts.get(b, 0) - 1\n",
    "\n",
    "    # All counts must be 0\n",
    "    return all(v == 0 for v in counts.values())"
   ]
  },
  {
   "cell_type": "code",
   "execution_count": 4,
   "id": "6613ae61-8298-46a9-8b38-952e756f1f43",
   "metadata": {},
   "outputs": [
    {
     "name": "stdout",
     "output_type": "stream",
     "text": [
      "True\n",
      "False\n"
     ]
    }
   ],
   "source": [
    "print(isAnagram(\"racecar\", \"carrace\"))\n",
    "print(isAnagram(\"jar\", \"jam\"))"
   ]
  },
  {
   "cell_type": "markdown",
   "id": "1ee0648a-1b70-4b40-a5c0-b4c6bf22472b",
   "metadata": {},
   "source": [
    "## Counting array of size 26 — O(n) time, O(1) space\n",
    "Fastest in practice for this constraint"
   ]
  },
  {
   "cell_type": "code",
   "execution_count": 19,
   "id": "61f7612f-6d2c-4673-90f4-91e1989848e4",
   "metadata": {},
   "outputs": [],
   "source": [
    "def isAnagram(s, t) -> bool:\n",
    "    if len(s) != len(t):\n",
    "        return False\n",
    "\n",
    "    cnt = [0] * 26\n",
    "    for ch in s:\n",
    "        cnt[ord(ch) - 97] += 1\n",
    "    for ch in t:\n",
    "        cnt[ord(ch) - 97] -= 1\n",
    "        \n",
    "    return all(x == 0 for x in cnt)"
   ]
  },
  {
   "cell_type": "code",
   "execution_count": 20,
   "id": "8d6f4594-a21f-48e2-8036-eda1fac6d361",
   "metadata": {},
   "outputs": [
    {
     "name": "stdout",
     "output_type": "stream",
     "text": [
      "True\n",
      "False\n"
     ]
    }
   ],
   "source": [
    "print(isAnagram(\"racecar\", \"carrace\"))\n",
    "print(isAnagram(\"jar\", \"jam\"))"
   ]
  },
  {
   "cell_type": "markdown",
   "id": "9f80e488-28a0-430d-a20f-1578b8c00f39",
   "metadata": {},
   "source": [
    "## Sorting — O(n log n) time, O(1)/O(n) space (depends on sort)\n",
    "Super readable, slightly slower asymptotically."
   ]
  },
  {
   "cell_type": "code",
   "execution_count": 7,
   "id": "9b448c00-45b6-4623-8293-371c09fedd82",
   "metadata": {},
   "outputs": [],
   "source": [
    "def isAnagram(s, t) -> bool:\n",
    "    return sorted(s) == sorted(t)"
   ]
  },
  {
   "cell_type": "code",
   "execution_count": 8,
   "id": "6499de56-0be4-4b84-96cc-b96bc1ab4790",
   "metadata": {},
   "outputs": [
    {
     "name": "stdout",
     "output_type": "stream",
     "text": [
      "True\n",
      "False\n"
     ]
    }
   ],
   "source": [
    "print(isAnagram(\"racecar\", \"carrace\"))\n",
    "print(isAnagram(\"jar\", \"jam\"))"
   ]
  },
  {
   "cell_type": "markdown",
   "id": "4c1b50e5-fcd2-4550-9239-e312dcd8e0e7",
   "metadata": {},
   "source": [
    "## Pythonic Counter — O(n) time, O(1) space (fixed alphabet)"
   ]
  },
  {
   "cell_type": "code",
   "execution_count": 9,
   "id": "fc8c8f90-c321-430f-a5d4-30d00086b25e",
   "metadata": {},
   "outputs": [],
   "source": [
    "from collections import Counter\n",
    "\n",
    "def isAnagram(s: str, t: str) -> bool:\n",
    "    return Counter(s) == Counter(t)"
   ]
  },
  {
   "cell_type": "code",
   "execution_count": 10,
   "id": "d56e90c9-4793-48dc-831f-21d74f91fbff",
   "metadata": {},
   "outputs": [
    {
     "name": "stdout",
     "output_type": "stream",
     "text": [
      "True\n",
      "False\n"
     ]
    }
   ],
   "source": [
    "print(isAnagram(\"racecar\", \"carrace\"))\n",
    "print(isAnagram(\"jar\", \"jam\"))"
   ]
  }
 ],
 "metadata": {
  "kernelspec": {
   "display_name": "Python 3.13 (System)",
   "language": "python",
   "name": "python313"
  },
  "language_info": {
   "codemirror_mode": {
    "name": "ipython",
    "version": 3
   },
   "file_extension": ".py",
   "mimetype": "text/x-python",
   "name": "python",
   "nbconvert_exporter": "python",
   "pygments_lexer": "ipython3",
   "version": "3.13.5"
  }
 },
 "nbformat": 4,
 "nbformat_minor": 5
}
