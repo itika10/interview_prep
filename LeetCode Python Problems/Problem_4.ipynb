{
 "cells": [
  {
   "cell_type": "markdown",
   "id": "a72f5c13-5256-4ccc-af9e-5e1fa4fb7976",
   "metadata": {},
   "source": [
    "# Group Anagrams\n",
    "## Given an array of strings strs, group all anagrams together into sublists. You may return the output in any order.\n",
    "#### An anagram is a string that contains the exact same characters as another string, but the order of the characters can be different.\n",
    "\n",
    "#### Example 1:\n",
    "\n",
    "Input: strs = [\"act\",\"pots\",\"tops\",\"cat\",\"stop\",\"hat\"]\n",
    "\n",
    "Output: [[\"hat\"],[\"act\", \"cat\"],[\"stop\", \"pots\", \"tops\"]]\n",
    "\n",
    "#### Example 2:\n",
    "\n",
    "Input: strs = [\"x\"]\n",
    "\n",
    "Output: [[\"x\"]]\n",
    "\n",
    "#### Example 3:\n",
    "\n",
    "Input: strs = [\"\"]\n",
    "\n",
    "Output: [[\"\"]]\n",
    "\n",
    "#### Constraints:\n",
    "\n",
    "1 <= strs.length <= 1000.\n",
    "\n",
    "0 <= strs[i].length <= 100\n",
    "\n",
    "strs[i] is made up of lowercase English letters."
   ]
  },
  {
   "cell_type": "markdown",
   "id": "c0d101aa-23db-42b4-825f-1f471763db53",
   "metadata": {},
   "source": [
    "## Approach 1 : Sort as the key\n",
    "<b>Time Complexity:</b> O(N * K log K) where N = number of strings, K = avg string length (sorting each word).\n",
    "\n",
    "<b>Space Complexity:</b> O(N * K) to store the output + keys."
   ]
  },
  {
   "cell_type": "code",
   "execution_count": 1,
   "id": "f26cd566-ed97-4930-9b97-2b01f6afe6ad",
   "metadata": {},
   "outputs": [],
   "source": [
    "def groupAnagrams(strs):\n",
    "    groups = {}\n",
    "    for str in strs:\n",
    "        key = ''.join(sorted(str))\n",
    "        if key not in groups:\n",
    "            groups[key] = []\n",
    "        groups[key].append(str)\n",
    "    return list(groups.values())         "
   ]
  },
  {
   "cell_type": "code",
   "execution_count": 2,
   "id": "98dc66c0-834c-4847-9fb5-231c2e98cd8f",
   "metadata": {},
   "outputs": [
    {
     "name": "stdout",
     "output_type": "stream",
     "text": [
      "[['eat', 'tea', 'ate'], ['tan', 'nat'], ['bat']]\n"
     ]
    }
   ],
   "source": [
    "strs = [\"eat\",\"tea\",\"tan\",\"ate\",\"nat\",\"bat\"]\n",
    "print(groupAnagrams(strs))"
   ]
  },
  {
   "cell_type": "markdown",
   "id": "e1b91153-32e3-4ab1-a5ac-ba444b6e1fb2",
   "metadata": {},
   "source": [
    "## Sort as the key using Python in-built module collections\n",
    "\n",
    "groups = defaultdict(list)\n",
    "\n",
    "defaultdict(list) creates a dictionary that automatically provides an empty list for any new key.\n",
    "\n",
    "So groups[some_key].append(word) works even if some_key doesn’t exist yet—no need to check.\n",
    "\n",
    "Equivalent without defaultdict:\n",
    "\n",
    "groups = {}\n",
    "\n",
    "groups.setdefault(key, []).append(s)"
   ]
  },
  {
   "cell_type": "code",
   "execution_count": 3,
   "id": "2ac6d69f-17b8-4a83-90a8-2f44b3171091",
   "metadata": {},
   "outputs": [],
   "source": [
    "from collections import defaultdict\n",
    "def groupAnagrams(strs):\n",
    "    groups = defaultdict(list)\n",
    "    for str in strs:\n",
    "        key = ''.join(sorted(str))\n",
    "        groups[key].append(str)\n",
    "    return list(groups.values())  "
   ]
  },
  {
   "cell_type": "code",
   "execution_count": 4,
   "id": "f0d90578-376c-471e-aeb2-bc2c696c1815",
   "metadata": {},
   "outputs": [
    {
     "name": "stdout",
     "output_type": "stream",
     "text": [
      "[['eat', 'tea', 'ate'], ['tan', 'nat'], ['bat']]\n"
     ]
    }
   ],
   "source": [
    "strs = [\"eat\",\"tea\",\"tan\",\"ate\",\"nat\",\"bat\"]\n",
    "print(groupAnagrams(strs))"
   ]
  },
  {
   "cell_type": "markdown",
   "id": "4e549c60-e155-426b-b123-30371fb24f97",
   "metadata": {},
   "source": [
    "## Approach 2: 26-char frequency as the key (optimal time)\n",
    "<b>Time Complexity:</b> O(N * K) (no sorting; just counting).\n",
    "\n",
    "<b>Space Complexity:</b> O(N * K) (output + key tuples)."
   ]
  },
  {
   "cell_type": "code",
   "execution_count": 5,
   "id": "00420505-cd99-438b-8ae5-6b900166ddff",
   "metadata": {},
   "outputs": [],
   "source": [
    "from collections import defaultdict\n",
    "def groupAnagrams(strs):\n",
    "    groups = defaultdict(list)\n",
    "    for s in strs:\n",
    "        freq = [0] * 26\n",
    "        for ch in s:\n",
    "            freq[ord(ch) - ord('a')] += 1\n",
    "        groups[tuple(freq)].append(s)   # tuple is hashable; list isn’t\n",
    "    return list(groups.values())\n"
   ]
  },
  {
   "cell_type": "code",
   "execution_count": 6,
   "id": "0bc60aad-5566-4f99-b75b-a766382bd977",
   "metadata": {},
   "outputs": [
    {
     "name": "stdout",
     "output_type": "stream",
     "text": [
      "[['eat', 'tea', 'ate'], ['tan', 'nat'], ['bat']]\n"
     ]
    }
   ],
   "source": [
    "strs = [\"eat\",\"tea\",\"tan\",\"ate\",\"nat\",\"bat\"]\n",
    "print(groupAnagrams(strs))"
   ]
  },
  {
   "cell_type": "markdown",
   "id": "eabe0ed1-7273-4e02-9cc2-b538dd145c21",
   "metadata": {},
   "source": [
    "## Which should you pick?\n",
    "\n",
    "If you want fastest runtime for long strings → Approach 2 (count key).\n",
    "\n",
    "If you want shortest code and clarity → Approach 1 (sorted key).\n",
    "\n",
    "## Both handle edge cases:\n",
    "\n",
    "Empty string \"\" → sort is \"\"; count key is all zeros → grouped correctly.\n",
    "\n",
    "Duplicates are kept (we’re appending, not using sets).\n",
    "\n",
    "Order of groups/within groups doesn’t matter (problem allows any order)."
   ]
  },
  {
   "cell_type": "markdown",
   "id": "3b7a7a65-0d90-40f7-98ee-6f3c7de76c56",
   "metadata": {},
   "source": [
    "## Common pitfalls to avoid\n",
    "\n",
    "Using a list as a dict key for counts (list is unhashable) → use a tuple.\n",
    "\n",
    "Using a set to group (loses duplicates and ignores counts).\n",
    "\n",
    "Forgetting to handle \"\" (both approaches above handle it fine)."
   ]
  }
 ],
 "metadata": {
  "kernelspec": {
   "display_name": "Python 3.13 (System)",
   "language": "python",
   "name": "python313"
  },
  "language_info": {
   "codemirror_mode": {
    "name": "ipython",
    "version": 3
   },
   "file_extension": ".py",
   "mimetype": "text/x-python",
   "name": "python",
   "nbconvert_exporter": "python",
   "pygments_lexer": "ipython3",
   "version": "3.13.5"
  }
 },
 "nbformat": 4,
 "nbformat_minor": 5
}
