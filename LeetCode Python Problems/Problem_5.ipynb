{
 "cells": [
  {
   "cell_type": "markdown",
   "id": "26e3fcee-b3c5-488d-b310-2fd3c32b3a4c",
   "metadata": {},
   "source": [
    "# K Frequent Elements\n",
    "## Given an integer array nums and an integer k, return the k most frequent elements within the array.\n",
    "\n",
    "The test cases are generated such that the answer is always unique.\n",
    "\n",
    "You may return the output in any order.\n",
    "\n",
    "#### Example 1:\n",
    "Input: nums = [1,2,2,3,3,3], k = 2\n",
    "\n",
    "Output: [2,3]\n",
    "\n",
    "#### Example 2:\n",
    "Input: nums = [7,7], k = 1\n",
    "\n",
    "Output: [7]\n",
    "\n",
    "#### Constraints:\n",
    "\n",
    "1 <= nums.length <= 10^4.\n",
    "-1000 <= nums[i] <= 1000\n",
    "1 <= k <= number of distinct elements in nums.\n"
   ]
  },
  {
   "cell_type": "markdown",
   "id": "f4d098a3-94b6-4924-951b-5e86364d767a",
   "metadata": {},
   "source": [
    "## Approach 1 : Count and sort dictionary\n",
    "<b>Time Complexity:</b> O(n * m log m) where n = length(nums), m = number of distinct elements.\n",
    "\n",
    "<b>Space Complexity:</b> O(m) to store the output + keys."
   ]
  },
  {
   "cell_type": "code",
   "execution_count": 1,
   "id": "2722d12b-c305-42f7-822a-ed4548cafc12",
   "metadata": {},
   "outputs": [],
   "source": [
    "def topKFrequent(nums, k):\n",
    "    count = {}\n",
    "    result = []\n",
    "    for num in nums:  # O(n) and O(m)\n",
    "        count[num] = count.get(num, 0) + 1\n",
    "    count = sorted(count.items(), key=lambda item: item[1], reverse=True)  # O(m log m) and O(m)\n",
    "    for i in range(k): # O(k) and O(k) very less when compared to O(n) or O()\n",
    "        key,val = count[i]\n",
    "        result.append(key)\n",
    "\n",
    "    return result"
   ]
  },
  {
   "cell_type": "code",
   "execution_count": 2,
   "id": "07e14179-fd5d-4ae2-bcdf-b045417d530b",
   "metadata": {},
   "outputs": [
    {
     "name": "stdout",
     "output_type": "stream",
     "text": [
      "[3, 2]\n",
      "[7]\n"
     ]
    }
   ],
   "source": [
    "print(topKFrequent([1,2,2,3,3,3], k = 2))\n",
    "print(topKFrequent([7,7,7], k = 1))"
   ]
  },
  {
   "cell_type": "markdown",
   "id": "0899950c-c5e9-49a1-9973-cfe583ab7865",
   "metadata": {},
   "source": [
    "## Approach 2 : Count and Bucket Sort\n",
    "Bucket Sort is a trick to avoid the sort(O(m log m) and reduce the time complexity). It is not an actual sort.\n",
    "\n",
    "<b>Time Complexity:</b> O(n) where n = length(nums)\n",
    "\n",
    "<b>Space Complexity:</b> O(n)"
   ]
  },
  {
   "cell_type": "code",
   "execution_count": 3,
   "id": "a23d06fc-9aa1-473c-bf03-31942170e308",
   "metadata": {},
   "outputs": [],
   "source": [
    "def topKFrequent(nums, k):\n",
    "    count = {}\n",
    "    result = []\n",
    "    for num in nums:  # O(n) and O(m)\n",
    "        count[num] = count.get(num, 0) + 1\n",
    "        \n",
    "    bucket = [[] for _ in range(len(nums)+1)] # n+1 buckets, because frequency can go up to n\n",
    "\n",
    "    for num, f in count.items():   # adding the numbers to the bucket based on the frequency eg. if num 2 has frequency 3, we add it to i = 3\n",
    "        bucket[f].append(num)\n",
    "\n",
    "    for f in range(len(bucket)-1, 0, -1): # iterating the bucket from back to get the highest frequency first\n",
    "        for num in bucket[f]:\n",
    "            result.append(num)\n",
    "            if len(result) == k:\n",
    "                return result"
   ]
  },
  {
   "cell_type": "code",
   "execution_count": 4,
   "id": "b7d278b4-60d3-48c1-92ff-d458d10c656f",
   "metadata": {},
   "outputs": [
    {
     "name": "stdout",
     "output_type": "stream",
     "text": [
      "[3, 2]\n",
      "[7]\n"
     ]
    }
   ],
   "source": [
    "print(topKFrequent([1,2,2,3,3,3], k = 2))\n",
    "print(topKFrequent([7,7,7], k = 1))"
   ]
  }
 ],
 "metadata": {
  "kernelspec": {
   "display_name": "Python 3.13 (System)",
   "language": "python",
   "name": "python313"
  },
  "language_info": {
   "codemirror_mode": {
    "name": "ipython",
    "version": 3
   },
   "file_extension": ".py",
   "mimetype": "text/x-python",
   "name": "python",
   "nbconvert_exporter": "python",
   "pygments_lexer": "ipython3",
   "version": "3.13.5"
  }
 },
 "nbformat": 4,
 "nbformat_minor": 5
}
