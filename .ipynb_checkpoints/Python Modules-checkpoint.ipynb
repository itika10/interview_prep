{
 "cells": [
  {
   "cell_type": "markdown",
   "id": "94b77479-d0a9-4ac5-9ff3-6bcc2288bd4a",
   "metadata": {},
   "source": [
    "# 🛠 Python collections Module – Quick Reference\n",
    "\n",
    "collections is a Python standard library module that provides specialized container data types — they work like Python’s built-in types (dict, list, tuple, set) but are optimized for specific use cases."
   ]
  },
  {
   "cell_type": "markdown",
   "id": "d964df43-8566-4bac-b231-4b8b8d5ad852",
   "metadata": {},
   "source": [
    "## 1️⃣ Counter – Frequency Counting\n",
    "### What it is: \n",
    "A dictionary subclass for counting hashable items.\n",
    "\n",
    "### When to use:\n",
    "Character frequency in strings (e.g., anagrams, histogram problems)\n",
    "\n",
    "Word frequency in text\n",
    "\n",
    "Finding most/least common items\n",
    "\n",
    "### Example:"
   ]
  },
  {
   "cell_type": "code",
   "execution_count": 2,
   "id": "c22594a0-113a-45d0-bfd2-dc70064fdd74",
   "metadata": {},
   "outputs": [
    {
     "name": "stdout",
     "output_type": "stream",
     "text": [
      "Counter({'i': 4, 's': 4, 'p': 2, 'm': 1})\n",
      "[('i', 4), ('s', 4)]\n",
      "4\n"
     ]
    }
   ],
   "source": [
    "from collections import Counter\n",
    "c = Counter(\"mississippi\")\n",
    "print(c) \n",
    "print(c.most_common(2))\n",
    "print(c['i'])              # 4 (like a dict lookup)"
   ]
  },
  {
   "cell_type": "markdown",
   "id": "77df3705-18b7-4778-aaaa-51c158337cff",
   "metadata": {},
   "source": [
    "## 2️⃣ defaultdict – Dictionary with Default Values\n",
    "### What it is: \n",
    "A dictionary that automatically assigns a default value for missing keys.\n",
    "\n",
    "### When to use:\n",
    "Grouping items (e.g., group anagrams)\n",
    "\n",
    "Building adjacency lists in graphs\n",
    "\n",
    "Avoiding KeyError in counting/grouping problems\n",
    "\n",
    "### Example:"
   ]
  },
  {
   "cell_type": "code",
   "execution_count": 3,
   "id": "da517923-3cbe-4738-b970-1b70ebc55125",
   "metadata": {},
   "outputs": [
    {
     "name": "stdout",
     "output_type": "stream",
     "text": [
      "defaultdict(<class 'list'>, {'A': ['B', 'C']})\n"
     ]
    }
   ],
   "source": [
    "from collections import defaultdict\n",
    "graph = defaultdict(list)\n",
    "graph['A'].append('B')     # No need to check if 'A' exists\n",
    "graph['A'].append('C')\n",
    "print(graph)               # defaultdict(<class 'list'>, {'A': ['B', 'C']})"
   ]
  },
  {
   "cell_type": "markdown",
   "id": "b608e8f5-bfae-4f50-b354-e4a96df86424",
   "metadata": {},
   "source": [
    "## 3️⃣ deque – Double-Ended Queue\n",
    "### What it is: \n",
    "A list-like container optimized for fast appends and pops from both ends.\n",
    "\n",
    "### When to use:\n",
    "BFS (queue operations) in graphs/trees\n",
    "\n",
    "Sliding window problems\n",
    "\n",
    "Keeping track of last N elements\n",
    "\n",
    "### Example:"
   ]
  },
  {
   "cell_type": "code",
   "execution_count": 4,
   "id": "32542299-11a1-4f4e-82a4-139039bfadef",
   "metadata": {},
   "outputs": [
    {
     "name": "stdout",
     "output_type": "stream",
     "text": [
      "deque([1, 2, 3, 4])\n",
      "deque([0, 1, 2, 3, 4])\n",
      "deque([0, 1, 2, 3])\n",
      "deque([1, 2, 3])\n"
     ]
    }
   ],
   "source": [
    "from collections import deque\n",
    "dq = deque([1, 2, 3])\n",
    "dq.append(4)      # Add to right\n",
    "print(dq)\n",
    "dq.appendleft(0)  # Add to left\n",
    "print(dq)\n",
    "dq.pop()          # Remove from right\n",
    "print(dq)\n",
    "dq.popleft()      # Remove from left\n",
    "print(dq)"
   ]
  },
  {
   "cell_type": "markdown",
   "id": "1634ca5a-f036-4573-a37a-dc8ad464967e",
   "metadata": {},
   "source": [
    "## 4️⃣ namedtuple – Named Fields for Tuples\n",
    "### What it is: \n",
    "A tuple subclass with named attributes.\n",
    "\n",
    "### When to use:\n",
    "Returning multiple values with readable names\n",
    "\n",
    "Structuring small, immutable records without a class\n",
    "\n",
    "### Example:"
   ]
  },
  {
   "cell_type": "code",
   "execution_count": 8,
   "id": "93d2d589-9097-4103-a2f6-c4aadacecdc1",
   "metadata": {},
   "outputs": [
    {
     "name": "stdout",
     "output_type": "stream",
     "text": [
      "<class '__main__.Point'>\n",
      "10 20\n",
      "30 40\n",
      "Point(x=30, y=40)\n"
     ]
    }
   ],
   "source": [
    "from collections import namedtuple\n",
    "Point = namedtuple('Point', ['x', 'y'])\n",
    "print(Point)\n",
    "p = Point(10, 20)\n",
    "print(p.x, p.y)  # 10 20\n",
    "p = Point(30,40)\n",
    "print(p.x, p.y)\n",
    "print(p)"
   ]
  },
  {
   "cell_type": "markdown",
   "id": "8520585e-0fd7-4ddd-bf26-df97e9204935",
   "metadata": {},
   "source": [
    "## 5️⃣ OrderedDict – Ordered Dictionary\n",
    "### What it is: \n",
    "A dictionary that remembers insertion order\n",
    "\n",
    "### When to use:\n",
    "Need ordered dictionary operations in older Python versions\n",
    "\n",
    "move_to_end() and popitem(last=False) for custom LRU caching\n",
    "\n",
    "### Example:"
   ]
  },
  {
   "cell_type": "code",
   "execution_count": 10,
   "id": "42e4478f-1093-46e9-bbe5-225a2413d042",
   "metadata": {},
   "outputs": [
    {
     "name": "stdout",
     "output_type": "stream",
     "text": [
      "OrderedDict({'a': 1, 'b': 2})\n",
      "OrderedDict({'b': 2, 'a': 1})\n"
     ]
    }
   ],
   "source": [
    "from collections import OrderedDict\n",
    "od = OrderedDict()\n",
    "od['a'] = 1\n",
    "od['b'] = 2\n",
    "print(od)\n",
    "od.move_to_end('a')    # Move 'a' to the end\n",
    "print(od)"
   ]
  },
  {
   "cell_type": "markdown",
   "id": "229c03f4-9bc6-48ad-a4f8-5634b20e37c4",
   "metadata": {},
   "source": [
    "## 6️⃣ ChainMap – Multiple Dict Views\n",
    "### What it is: \n",
    "Groups multiple dictionaries into a single view.\n",
    "\n",
    "### When to use:\n",
    "Merging configs from different sources without copying\n",
    "\n",
    "Layered variable scopes\n",
    "\n",
    "### Example:"
   ]
  },
  {
   "cell_type": "code",
   "execution_count": 11,
   "id": "2754734a-ce2b-4391-8160-5905633c0a0b",
   "metadata": {},
   "outputs": [
    {
     "name": "stdout",
     "output_type": "stream",
     "text": [
      "2\n"
     ]
    }
   ],
   "source": [
    "from collections import ChainMap\n",
    "a = {'x': 1, 'y': 2}\n",
    "b = {'y': 3, 'z': 4}\n",
    "cm = ChainMap(a, b)\n",
    "print(cm['y'])  # 2 (from first dict)"
   ]
  },
  {
   "cell_type": "code",
   "execution_count": null,
   "id": "b4c72e9a-f439-4125-a1bf-04c537297920",
   "metadata": {},
   "outputs": [],
   "source": []
  }
 ],
 "metadata": {
  "kernelspec": {
   "display_name": "Python 3.13 (System)",
   "language": "python",
   "name": "python313"
  },
  "language_info": {
   "codemirror_mode": {
    "name": "ipython",
    "version": 3
   },
   "file_extension": ".py",
   "mimetype": "text/x-python",
   "name": "python",
   "nbconvert_exporter": "python",
   "pygments_lexer": "ipython3",
   "version": "3.13.5"
  }
 },
 "nbformat": 4,
 "nbformat_minor": 5
}
